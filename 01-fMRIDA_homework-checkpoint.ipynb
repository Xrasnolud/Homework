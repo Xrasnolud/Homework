{
 "cells": [
  {
   "cell_type": "markdown",
   "metadata": {},
   "source": [
    "# Fundamentals of fMRI data analysis \n",
    "## Homework for courses: \n",
    "- #0 Introduction\n",
    "- #1 Reproducible neuroimaging"
   ]
  },
  {
   "cell_type": "markdown",
   "metadata": {},
   "source": [
    "In this assignment, your task is to answer a few questions related to neuroimaging using Markdown ([cheet sheet](https://guides.github.com/features/mastering-markdown/)).  \n",
    "\n",
    "You can choose to answer in Polish or English (it will not affect your grade).\n",
    "\n",
    "Write answers in your **own words**, as you would like to explain it to a friend (do not copy from Wikipedia!). \n",
    "\n",
    "Use Markdown formatting options as much as possible!\n",
    "\n",
    "\n",
    "**DEADLINE:** 18-10-2020\n",
    "\n",
    "\n",
    "--------------------\n"
   ]
  },
  {
   "cell_type": "markdown",
   "metadata": {},
   "source": [
    "**1. Explain in your *own words* how fMRI works (2-3 sentences).**"
   ]
  },
  {
   "cell_type": "markdown",
   "metadata": {},
   "source": [
    "It measures BOLD signal response from tissues. Active brain regions require more **glucose** and **oxygen** therefore blood flows to them. Due to magnetic pulses we can change spin of electrons and thus observe changes in blood flow. Results are then visualized using color gradient to see which regions were more avtive. "
   ]
  },
  {
   "cell_type": "markdown",
   "metadata": {},
   "source": [
    "**2. Explain in your *own words* the term *BOLD signal* (2-3 sentences).**"
   ]
  },
  {
   "cell_type": "markdown",
   "metadata": {},
   "source": [
    "It is a measurement of level of blood oxygenation that can be observed under effects of magnetic field. "
   ]
  },
  {
   "cell_type": "markdown",
   "metadata": {},
   "source": [
    "**3. Make a table (two columns) with advantages and disadvantages of fMRI.**\n",
    "\n",
    "Advantages | Disadvantages\n",
    "----- | -----\n",
    "Most people can be tested using this method| Poor time resolution\n",
    "Allows for good spatial resolution | Scan itself can take a long time which can discourage potential participants\n",
    "People in scanner can be given various cognitive/psychological tests and tasks | Observed activity may not be related to a given task\n",
    "Results are accurate when it comes to pinpointing exact region of activation | Doesn't take into account metabolical processes without oxygen\n"
   ]
  },
  {
   "cell_type": "markdown",
   "metadata": {},
   "source": [
    "**4. Explain in your *own words* the term *reproducible research*.**\n",
    "Highly recomended video: [From interactive exploration to reproducible data science](https://www.youtube.com/watch?v=xOKPKiAhey4).\n"
   ]
  },
  {
   "cell_type": "markdown",
   "metadata": {},
   "source": [
    "It's a research that can be reliably reproduced multiple times in different labs by different teams. Reproducible research is a basis for modern science as every result needs to be retested and checked for potential methodological and statistical errors, and this principle allows it to."
   ]
  },
  {
   "cell_type": "markdown",
   "metadata": {},
   "source": [
    "**5. Make a *list* with good neuroimaging research practices that improve reproducibility of results.**"
   ]
  },
  {
   "cell_type": "markdown",
   "metadata": {},
   "source": [
    "* _Detailed description of methods_\n",
    "* _Open access to published paper_\n",
    "* _Shared code for data analysis and software used_\n"
   ]
  },
  {
   "cell_type": "code",
   "execution_count": null,
   "metadata": {},
   "outputs": [],
   "source": []
  }
 ],
 "metadata": {
  "kernelspec": {
   "display_name": "Python 3",
   "language": "python",
   "name": "python3"
  },
  "language_info": {
   "codemirror_mode": {
    "name": "ipython",
    "version": 3
   },
   "file_extension": ".py",
   "mimetype": "text/x-python",
   "name": "python",
   "nbconvert_exporter": "python",
   "pygments_lexer": "ipython3",
   "version": "3.8.3"
  },
  "widgets": {
   "application/vnd.jupyter.widget-state+json": {
    "state": {},
    "version_major": 2,
    "version_minor": 0
   }
  }
 },
 "nbformat": 4,
 "nbformat_minor": 4
}
